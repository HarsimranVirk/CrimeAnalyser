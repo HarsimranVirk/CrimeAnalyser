{
 "cells": [
  {
   "cell_type": "code",
   "execution_count": 1,
   "metadata": {},
   "outputs": [],
   "source": [
    "import pandas as pd\n",
    "import random\n",
    "import requests\n",
    "import json"
   ]
  },
  {
   "cell_type": "code",
   "execution_count": 2,
   "metadata": {},
   "outputs": [],
   "source": [
    "cities = pd.read_csv('CleanedSheet.csv')\n",
    "dummy_users = pd.read_csv('MOCK_DATA(1).csv')"
   ]
  },
  {
   "cell_type": "code",
   "execution_count": 3,
   "metadata": {},
   "outputs": [
    {
     "data": {
      "text/plain": [
       "825"
      ]
     },
     "execution_count": 3,
     "metadata": {},
     "output_type": "execute_result"
    }
   ],
   "source": [
    "number_of_options = cities['DISTRICT'].nunique()\n",
    "number_of_options"
   ]
  },
  {
   "cell_type": "code",
   "execution_count": 4,
   "metadata": {},
   "outputs": [
    {
     "data": {
      "text/plain": [
       "'GHAZIABAD, UTTAR PRADESH'"
      ]
     },
     "execution_count": 4,
     "metadata": {},
     "output_type": "execute_result"
    }
   ],
   "source": [
    "def getLocation():\n",
    "    index = random.randint(1, number_of_options)\n",
    "    return \"{district}, {state}\".format(district=cities['DISTRICT'][index], state=cities['STATE/UT'][index])\n",
    "\n",
    "getLocation()"
   ]
  },
  {
   "cell_type": "code",
   "execution_count": 5,
   "metadata": {},
   "outputs": [
    {
     "data": {
      "text/plain": [
       "(499, 6)"
      ]
     },
     "execution_count": 5,
     "metadata": {},
     "output_type": "execute_result"
    }
   ],
   "source": [
    "dummy_users.shape"
   ]
  },
  {
   "cell_type": "code",
   "execution_count": 6,
   "metadata": {},
   "outputs": [
    {
     "data": {
      "text/plain": [
       "499"
      ]
     },
     "execution_count": 6,
     "metadata": {},
     "output_type": "execute_result"
    }
   ],
   "source": [
    "loc_arr = [getLocation() for _ in range(dummy_users['id'].nunique())]\n",
    "len(loc_arr)"
   ]
  },
  {
   "cell_type": "code",
   "execution_count": 22,
   "metadata": {},
   "outputs": [
    {
     "data": {
      "text/html": [
       "<div>\n",
       "<style scoped>\n",
       "    .dataframe tbody tr th:only-of-type {\n",
       "        vertical-align: middle;\n",
       "    }\n",
       "\n",
       "    .dataframe tbody tr th {\n",
       "        vertical-align: top;\n",
       "    }\n",
       "\n",
       "    .dataframe thead th {\n",
       "        text-align: right;\n",
       "    }\n",
       "</style>\n",
       "<table border=\"1\" class=\"dataframe\">\n",
       "  <thead>\n",
       "    <tr style=\"text-align: right;\">\n",
       "      <th></th>\n",
       "      <th>id</th>\n",
       "      <th>name</th>\n",
       "      <th>age</th>\n",
       "      <th>gender</th>\n",
       "      <th>email</th>\n",
       "      <th>location</th>\n",
       "    </tr>\n",
       "  </thead>\n",
       "  <tbody>\n",
       "    <tr>\n",
       "      <th>0</th>\n",
       "      <td>1</td>\n",
       "      <td>Sib</td>\n",
       "      <td>35</td>\n",
       "      <td>Female</td>\n",
       "      <td>salfonsini0@flickr.com</td>\n",
       "      <td>AURANGABAD COMMR., MAHARASHTRA</td>\n",
       "    </tr>\n",
       "    <tr>\n",
       "      <th>1</th>\n",
       "      <td>2</td>\n",
       "      <td>Mollie</td>\n",
       "      <td>18</td>\n",
       "      <td>Female</td>\n",
       "      <td>mtumini1@yahoo.co.jp</td>\n",
       "      <td>KASARGOD, KERALA</td>\n",
       "    </tr>\n",
       "    <tr>\n",
       "      <th>2</th>\n",
       "      <td>3</td>\n",
       "      <td>Sadye</td>\n",
       "      <td>36</td>\n",
       "      <td>Female</td>\n",
       "      <td>sbatecok2@nsw.gov.au</td>\n",
       "      <td>HIMATNAGAR, GUJARAT</td>\n",
       "    </tr>\n",
       "    <tr>\n",
       "      <th>3</th>\n",
       "      <td>4</td>\n",
       "      <td>Wade</td>\n",
       "      <td>53</td>\n",
       "      <td>Male</td>\n",
       "      <td>wchasemoore3@google.com.hk</td>\n",
       "      <td>LEH, JAMMU &amp; KASHMIR</td>\n",
       "    </tr>\n",
       "    <tr>\n",
       "      <th>4</th>\n",
       "      <td>5</td>\n",
       "      <td>Tonie</td>\n",
       "      <td>41</td>\n",
       "      <td>Female</td>\n",
       "      <td>tgeratt4@about.me</td>\n",
       "      <td>NOWRANGPUR, ODISHA</td>\n",
       "    </tr>\n",
       "  </tbody>\n",
       "</table>\n",
       "</div>"
      ],
      "text/plain": [
       "   id    name  age  gender                       email  \\\n",
       "0   1     Sib   35  Female      salfonsini0@flickr.com   \n",
       "1   2  Mollie   18  Female        mtumini1@yahoo.co.jp   \n",
       "2   3   Sadye   36  Female        sbatecok2@nsw.gov.au   \n",
       "3   4    Wade   53    Male  wchasemoore3@google.com.hk   \n",
       "4   5   Tonie   41  Female           tgeratt4@about.me   \n",
       "\n",
       "                         location  \n",
       "0  AURANGABAD COMMR., MAHARASHTRA  \n",
       "1                KASARGOD, KERALA  \n",
       "2             HIMATNAGAR, GUJARAT  \n",
       "3            LEH, JAMMU & KASHMIR  \n",
       "4              NOWRANGPUR, ODISHA  "
      ]
     },
     "execution_count": 22,
     "metadata": {},
     "output_type": "execute_result"
    }
   ],
   "source": [
    "loc_assign.head()"
   ]
  },
  {
   "cell_type": "code",
   "execution_count": 24,
   "metadata": {},
   "outputs": [],
   "source": [
    "loc_assign.to_csv(\"LocationAddedSheet.csv\")"
   ]
  },
  {
   "cell_type": "code",
   "execution_count": null,
   "metadata": {},
   "outputs": [],
   "source": []
  }
 ],
 "metadata": {
  "kernelspec": {
   "display_name": "Python 3",
   "language": "python",
   "name": "python3"
  },
  "language_info": {
   "codemirror_mode": {
    "name": "ipython",
    "version": 3
   },
   "file_extension": ".py",
   "mimetype": "text/x-python",
   "name": "python",
   "nbconvert_exporter": "python",
   "pygments_lexer": "ipython3",
   "version": "3.7.5"
  }
 },
 "nbformat": 4,
 "nbformat_minor": 4
}
