{
 "metadata": {
  "language_info": {
   "codemirror_mode": {
    "name": "ipython",
    "version": 3
   },
   "file_extension": ".py",
   "mimetype": "text/x-python",
   "name": "python",
   "nbconvert_exporter": "python",
   "pygments_lexer": "ipython3",
   "version": "3.9.0-final"
  },
  "orig_nbformat": 2,
  "kernelspec": {
   "name": "python3",
   "display_name": "Python 3.9.0 64-bit",
   "metadata": {
    "interpreter": {
     "hash": "63fd5069d213b44bf678585dea6b12cceca9941eaf7f819626cde1f2670de90d"
    }
   }
  }
 },
 "nbformat": 4,
 "nbformat_minor": 2,
 "cells": [
  {
   "source": [
    "import pandas as pd\n",
    "import requests"
   ],
   "cell_type": "code",
   "metadata": {},
   "execution_count": 40,
   "outputs": []
  },
  {
   "cell_type": "code",
   "execution_count": 41,
   "metadata": {},
   "outputs": [
    {
     "output_type": "execute_result",
     "data": {
      "text/plain": [
       "   Unnamed: 0  id    name  age  gender                       email  \\\n",
       "0           0   1     Sib   35  Female      salfonsini0@flickr.com   \n",
       "1           1   2  Mollie   18  Female        mtumini1@yahoo.co.jp   \n",
       "2           2   3   Sadye   36  Female        sbatecok2@nsw.gov.au   \n",
       "3           3   4    Wade   53    Male  wchasemoore3@google.com.hk   \n",
       "4           4   5   Tonie   41  Female           tgeratt4@about.me   \n",
       "\n",
       "                        location  \n",
       "0  AURANGABAD COMMR, MAHARASHTRA  \n",
       "1               KASARGOD, KERALA  \n",
       "2            HIMATNAGAR, GUJARAT  \n",
       "3           LEH, JAMMU & KASHMIR  \n",
       "4             NOWRANGPUR, ODISHA  "
      ],
      "text/html": "<div>\n<style scoped>\n    .dataframe tbody tr th:only-of-type {\n        vertical-align: middle;\n    }\n\n    .dataframe tbody tr th {\n        vertical-align: top;\n    }\n\n    .dataframe thead th {\n        text-align: right;\n    }\n</style>\n<table border=\"1\" class=\"dataframe\">\n  <thead>\n    <tr style=\"text-align: right;\">\n      <th></th>\n      <th>Unnamed: 0</th>\n      <th>id</th>\n      <th>name</th>\n      <th>age</th>\n      <th>gender</th>\n      <th>email</th>\n      <th>location</th>\n    </tr>\n  </thead>\n  <tbody>\n    <tr>\n      <th>0</th>\n      <td>0</td>\n      <td>1</td>\n      <td>Sib</td>\n      <td>35</td>\n      <td>Female</td>\n      <td>salfonsini0@flickr.com</td>\n      <td>AURANGABAD COMMR, MAHARASHTRA</td>\n    </tr>\n    <tr>\n      <th>1</th>\n      <td>1</td>\n      <td>2</td>\n      <td>Mollie</td>\n      <td>18</td>\n      <td>Female</td>\n      <td>mtumini1@yahoo.co.jp</td>\n      <td>KASARGOD, KERALA</td>\n    </tr>\n    <tr>\n      <th>2</th>\n      <td>2</td>\n      <td>3</td>\n      <td>Sadye</td>\n      <td>36</td>\n      <td>Female</td>\n      <td>sbatecok2@nsw.gov.au</td>\n      <td>HIMATNAGAR, GUJARAT</td>\n    </tr>\n    <tr>\n      <th>3</th>\n      <td>3</td>\n      <td>4</td>\n      <td>Wade</td>\n      <td>53</td>\n      <td>Male</td>\n      <td>wchasemoore3@google.com.hk</td>\n      <td>LEH, JAMMU &amp; KASHMIR</td>\n    </tr>\n    <tr>\n      <th>4</th>\n      <td>4</td>\n      <td>5</td>\n      <td>Tonie</td>\n      <td>41</td>\n      <td>Female</td>\n      <td>tgeratt4@about.me</td>\n      <td>NOWRANGPUR, ODISHA</td>\n    </tr>\n  </tbody>\n</table>\n</div>"
     },
     "metadata": {},
     "execution_count": 41
    }
   ],
   "source": [
    "df = pd.read_csv('LocationAddedSheet.csv')\n",
    "df.head()"
   ]
  },
  {
   "cell_type": "code",
   "execution_count": 42,
   "metadata": {},
   "outputs": [],
   "source": [
    "location_list = df.get('location').to_list()"
   ]
  },
  {
   "cell_type": "code",
   "execution_count": 43,
   "metadata": {},
   "outputs": [],
   "source": [
    "latitude = []\n",
    "longitude = []"
   ]
  },
  {
   "cell_type": "code",
   "execution_count": 44,
   "metadata": {},
   "outputs": [],
   "source": [
    "payload = {\n",
    "    'key': 'ciGNJ4Y3fvsCmD3Wrnx8gG7RAWpAWzRg',\n",
    "    'inFormat': 'kvp',\n",
    "    'outFormat': 'json',\n",
    "    'thumbMaps': 'false',\n",
    "    'location': 'ENTER LOCATION HERE'\n",
    "}\n",
    "\n",
    "for location in location_list:\n",
    "    payload['location'] = location\n",
    "    r = requests.get('https://www.mapquestapi.com/geocoding/v1/address', params=payload)\n",
    "    res = r.json()\n",
    "    latLng = res['results'][0]['locations'][0]['latLng']\n",
    "    latitude.append(latLng['lat'])\n",
    "    longitude.append(latLng['lng'])"
   ]
  },
  {
   "cell_type": "code",
   "execution_count": 46,
   "metadata": {},
   "outputs": [
    {
     "output_type": "stream",
     "name": "stdout",
     "text": [
      "499\n499\n"
     ]
    }
   ],
   "source": [
    "print(len(latitude))\n",
    "print(len(longitude))"
   ]
  },
  {
   "cell_type": "code",
   "execution_count": 47,
   "metadata": {},
   "outputs": [],
   "source": [
    "df['latitude'] = latitude\n",
    "df['longitude'] = longitude"
   ]
  },
  {
   "cell_type": "code",
   "execution_count": 48,
   "metadata": {},
   "outputs": [
    {
     "output_type": "execute_result",
     "data": {
      "text/plain": [
       "   Unnamed: 0  id    name  age  gender                       email  \\\n",
       "0           0   1     Sib   35  Female      salfonsini0@flickr.com   \n",
       "1           1   2  Mollie   18  Female        mtumini1@yahoo.co.jp   \n",
       "2           2   3   Sadye   36  Female        sbatecok2@nsw.gov.au   \n",
       "3           3   4    Wade   53    Male  wchasemoore3@google.com.hk   \n",
       "4           4   5   Tonie   41  Female           tgeratt4@about.me   \n",
       "\n",
       "                        location   latitude  longitude  \n",
       "0  AURANGABAD COMMR, MAHARASHTRA  19.873954   75.32778  \n",
       "1               KASARGOD, KERALA  12.535050   74.99952  \n",
       "2            HIMATNAGAR, GUJARAT  23.558400   72.75740  \n",
       "3           LEH, JAMMU & KASHMIR  32.717670   74.87053  \n",
       "4             NOWRANGPUR, ODISHA -37.089700  -56.83919  "
      ],
      "text/html": "<div>\n<style scoped>\n    .dataframe tbody tr th:only-of-type {\n        vertical-align: middle;\n    }\n\n    .dataframe tbody tr th {\n        vertical-align: top;\n    }\n\n    .dataframe thead th {\n        text-align: right;\n    }\n</style>\n<table border=\"1\" class=\"dataframe\">\n  <thead>\n    <tr style=\"text-align: right;\">\n      <th></th>\n      <th>Unnamed: 0</th>\n      <th>id</th>\n      <th>name</th>\n      <th>age</th>\n      <th>gender</th>\n      <th>email</th>\n      <th>location</th>\n      <th>latitude</th>\n      <th>longitude</th>\n    </tr>\n  </thead>\n  <tbody>\n    <tr>\n      <th>0</th>\n      <td>0</td>\n      <td>1</td>\n      <td>Sib</td>\n      <td>35</td>\n      <td>Female</td>\n      <td>salfonsini0@flickr.com</td>\n      <td>AURANGABAD COMMR, MAHARASHTRA</td>\n      <td>19.873954</td>\n      <td>75.32778</td>\n    </tr>\n    <tr>\n      <th>1</th>\n      <td>1</td>\n      <td>2</td>\n      <td>Mollie</td>\n      <td>18</td>\n      <td>Female</td>\n      <td>mtumini1@yahoo.co.jp</td>\n      <td>KASARGOD, KERALA</td>\n      <td>12.535050</td>\n      <td>74.99952</td>\n    </tr>\n    <tr>\n      <th>2</th>\n      <td>2</td>\n      <td>3</td>\n      <td>Sadye</td>\n      <td>36</td>\n      <td>Female</td>\n      <td>sbatecok2@nsw.gov.au</td>\n      <td>HIMATNAGAR, GUJARAT</td>\n      <td>23.558400</td>\n      <td>72.75740</td>\n    </tr>\n    <tr>\n      <th>3</th>\n      <td>3</td>\n      <td>4</td>\n      <td>Wade</td>\n      <td>53</td>\n      <td>Male</td>\n      <td>wchasemoore3@google.com.hk</td>\n      <td>LEH, JAMMU &amp; KASHMIR</td>\n      <td>32.717670</td>\n      <td>74.87053</td>\n    </tr>\n    <tr>\n      <th>4</th>\n      <td>4</td>\n      <td>5</td>\n      <td>Tonie</td>\n      <td>41</td>\n      <td>Female</td>\n      <td>tgeratt4@about.me</td>\n      <td>NOWRANGPUR, ODISHA</td>\n      <td>-37.089700</td>\n      <td>-56.83919</td>\n    </tr>\n  </tbody>\n</table>\n</div>"
     },
     "metadata": {},
     "execution_count": 48
    }
   ],
   "source": [
    "df.head()"
   ]
  },
  {
   "cell_type": "code",
   "execution_count": 50,
   "metadata": {},
   "outputs": [],
   "source": [
    "df.to_csv('LatLngAddedSheet.csv', index=False)"
   ]
  },
  {
   "cell_type": "code",
   "execution_count": 51,
   "metadata": {},
   "outputs": [
    {
     "output_type": "execute_result",
     "data": {
      "text/plain": [
       "   Unnamed: 0  id    name  age  gender                       email  \\\n",
       "0           0   1     Sib   35  Female      salfonsini0@flickr.com   \n",
       "1           1   2  Mollie   18  Female        mtumini1@yahoo.co.jp   \n",
       "2           2   3   Sadye   36  Female        sbatecok2@nsw.gov.au   \n",
       "3           3   4    Wade   53    Male  wchasemoore3@google.com.hk   \n",
       "4           4   5   Tonie   41  Female           tgeratt4@about.me   \n",
       "\n",
       "                        location   latitude  longitude  \n",
       "0  AURANGABAD COMMR, MAHARASHTRA  19.873954   75.32778  \n",
       "1               KASARGOD, KERALA  12.535050   74.99952  \n",
       "2            HIMATNAGAR, GUJARAT  23.558400   72.75740  \n",
       "3           LEH, JAMMU & KASHMIR  32.717670   74.87053  \n",
       "4             NOWRANGPUR, ODISHA -37.089700  -56.83919  "
      ],
      "text/html": "<div>\n<style scoped>\n    .dataframe tbody tr th:only-of-type {\n        vertical-align: middle;\n    }\n\n    .dataframe tbody tr th {\n        vertical-align: top;\n    }\n\n    .dataframe thead th {\n        text-align: right;\n    }\n</style>\n<table border=\"1\" class=\"dataframe\">\n  <thead>\n    <tr style=\"text-align: right;\">\n      <th></th>\n      <th>Unnamed: 0</th>\n      <th>id</th>\n      <th>name</th>\n      <th>age</th>\n      <th>gender</th>\n      <th>email</th>\n      <th>location</th>\n      <th>latitude</th>\n      <th>longitude</th>\n    </tr>\n  </thead>\n  <tbody>\n    <tr>\n      <th>0</th>\n      <td>0</td>\n      <td>1</td>\n      <td>Sib</td>\n      <td>35</td>\n      <td>Female</td>\n      <td>salfonsini0@flickr.com</td>\n      <td>AURANGABAD COMMR, MAHARASHTRA</td>\n      <td>19.873954</td>\n      <td>75.32778</td>\n    </tr>\n    <tr>\n      <th>1</th>\n      <td>1</td>\n      <td>2</td>\n      <td>Mollie</td>\n      <td>18</td>\n      <td>Female</td>\n      <td>mtumini1@yahoo.co.jp</td>\n      <td>KASARGOD, KERALA</td>\n      <td>12.535050</td>\n      <td>74.99952</td>\n    </tr>\n    <tr>\n      <th>2</th>\n      <td>2</td>\n      <td>3</td>\n      <td>Sadye</td>\n      <td>36</td>\n      <td>Female</td>\n      <td>sbatecok2@nsw.gov.au</td>\n      <td>HIMATNAGAR, GUJARAT</td>\n      <td>23.558400</td>\n      <td>72.75740</td>\n    </tr>\n    <tr>\n      <th>3</th>\n      <td>3</td>\n      <td>4</td>\n      <td>Wade</td>\n      <td>53</td>\n      <td>Male</td>\n      <td>wchasemoore3@google.com.hk</td>\n      <td>LEH, JAMMU &amp; KASHMIR</td>\n      <td>32.717670</td>\n      <td>74.87053</td>\n    </tr>\n    <tr>\n      <th>4</th>\n      <td>4</td>\n      <td>5</td>\n      <td>Tonie</td>\n      <td>41</td>\n      <td>Female</td>\n      <td>tgeratt4@about.me</td>\n      <td>NOWRANGPUR, ODISHA</td>\n      <td>-37.089700</td>\n      <td>-56.83919</td>\n    </tr>\n  </tbody>\n</table>\n</div>"
     },
     "metadata": {},
     "execution_count": 51
    }
   ],
   "source": [
    "df = pd.read_csv('LatLngAddedSheet.csv')\n",
    "df.head()"
   ]
  }
 ]
}