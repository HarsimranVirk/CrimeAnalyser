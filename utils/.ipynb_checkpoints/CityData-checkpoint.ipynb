{
 "cells": [
  {
   "cell_type": "code",
   "execution_count": 21,
   "metadata": {},
   "outputs": [],
   "source": [
    "import pandas as pd\n",
    "import random\n",
    "import requests\n",
    "import json"
   ]
  },
  {
   "cell_type": "code",
   "execution_count": 2,
   "metadata": {},
   "outputs": [],
   "source": [
    "cities = pd.read_csv('CleanedSheet.csv')\n",
    "dummy_users = pd.read_csv('MOCK_DATA(1).csv')"
   ]
  },
  {
   "cell_type": "code",
   "execution_count": 4,
   "metadata": {},
   "outputs": [
    {
     "data": {
      "text/plain": [
       "825"
      ]
     },
     "execution_count": 4,
     "metadata": {},
     "output_type": "execute_result"
    }
   ],
   "source": [
    "number_of_options = cities['DISTRICT'].nunique()\n",
    "number_of_options"
   ]
  },
  {
   "cell_type": "code",
   "execution_count": 7,
   "metadata": {},
   "outputs": [
    {
     "data": {
      "text/plain": [
       "'TIKAMGARH, MADHYA PRADESH'"
      ]
     },
     "execution_count": 7,
     "metadata": {},
     "output_type": "execute_result"
    }
   ],
   "source": [
    "def getLocation():\n",
    "    index = random.randint(1, number_of_options)\n",
    "    return \"{district}, {state}\".format(district=cities['DISTRICT'][index], state=cities['STATE/UT'][index])\n",
    "\n",
    "getLocation()"
   ]
  },
  {
   "cell_type": "code",
   "execution_count": 12,
   "metadata": {},
   "outputs": [
    {
     "data": {
      "text/plain": [
       "499"
      ]
     },
     "execution_count": 12,
     "metadata": {},
     "output_type": "execute_result"
    }
   ],
   "source": [
    "loc_arr = [getLocation() for _ in range(dummy_users['id'].nunique())]\n",
    "len(loc_arr)"
   ]
  },
  {
   "cell_type": "code",
   "execution_count": 13,
   "metadata": {},
   "outputs": [
    {
     "data": {
      "text/html": [
       "<div>\n",
       "<style scoped>\n",
       "    .dataframe tbody tr th:only-of-type {\n",
       "        vertical-align: middle;\n",
       "    }\n",
       "\n",
       "    .dataframe tbody tr th {\n",
       "        vertical-align: top;\n",
       "    }\n",
       "\n",
       "    .dataframe thead th {\n",
       "        text-align: right;\n",
       "    }\n",
       "</style>\n",
       "<table border=\"1\" class=\"dataframe\">\n",
       "  <thead>\n",
       "    <tr style=\"text-align: right;\">\n",
       "      <th></th>\n",
       "      <th>id</th>\n",
       "      <th>name</th>\n",
       "      <th>age</th>\n",
       "      <th>address</th>\n",
       "      <th>gender</th>\n",
       "      <th>email</th>\n",
       "      <th>location</th>\n",
       "    </tr>\n",
       "  </thead>\n",
       "  <tbody>\n",
       "    <tr>\n",
       "      <th>0</th>\n",
       "      <td>1</td>\n",
       "      <td>Sib</td>\n",
       "      <td>35</td>\n",
       "      <td>59 Bayside Circle</td>\n",
       "      <td>Female</td>\n",
       "      <td>salfonsini0@flickr.com</td>\n",
       "      <td>UDHAMPUR, JAMMU &amp; KASHMIR</td>\n",
       "    </tr>\n",
       "    <tr>\n",
       "      <th>1</th>\n",
       "      <td>2</td>\n",
       "      <td>Mollie</td>\n",
       "      <td>18</td>\n",
       "      <td>5056 High Crossing Trail</td>\n",
       "      <td>Female</td>\n",
       "      <td>mtumini1@yahoo.co.jp</td>\n",
       "      <td>RAIGAD, MAHARASHTRA</td>\n",
       "    </tr>\n",
       "    <tr>\n",
       "      <th>2</th>\n",
       "      <td>3</td>\n",
       "      <td>Sadye</td>\n",
       "      <td>36</td>\n",
       "      <td>411 Northfield Avenue</td>\n",
       "      <td>Female</td>\n",
       "      <td>sbatecok2@nsw.gov.au</td>\n",
       "      <td>NORTH, TRIPURA</td>\n",
       "    </tr>\n",
       "    <tr>\n",
       "      <th>3</th>\n",
       "      <td>4</td>\n",
       "      <td>Wade</td>\n",
       "      <td>53</td>\n",
       "      <td>51 Browning Lane</td>\n",
       "      <td>Male</td>\n",
       "      <td>wchasemoore3@google.com.hk</td>\n",
       "      <td>KARNAL, HARYANA</td>\n",
       "    </tr>\n",
       "    <tr>\n",
       "      <th>4</th>\n",
       "      <td>5</td>\n",
       "      <td>Tonie</td>\n",
       "      <td>41</td>\n",
       "      <td>0311 Arrowood Alley</td>\n",
       "      <td>Female</td>\n",
       "      <td>tgeratt4@about.me</td>\n",
       "      <td>UNA, HIMACHAL PRADESH</td>\n",
       "    </tr>\n",
       "  </tbody>\n",
       "</table>\n",
       "</div>"
      ],
      "text/plain": [
       "   id    name  age                   address  gender  \\\n",
       "0   1     Sib   35         59 Bayside Circle  Female   \n",
       "1   2  Mollie   18  5056 High Crossing Trail  Female   \n",
       "2   3   Sadye   36     411 Northfield Avenue  Female   \n",
       "3   4    Wade   53          51 Browning Lane    Male   \n",
       "4   5   Tonie   41       0311 Arrowood Alley  Female   \n",
       "\n",
       "                        email                   location  \n",
       "0      salfonsini0@flickr.com  UDHAMPUR, JAMMU & KASHMIR  \n",
       "1        mtumini1@yahoo.co.jp        RAIGAD, MAHARASHTRA  \n",
       "2        sbatecok2@nsw.gov.au             NORTH, TRIPURA  \n",
       "3  wchasemoore3@google.com.hk            KARNAL, HARYANA  \n",
       "4           tgeratt4@about.me      UNA, HIMACHAL PRADESH  "
      ]
     },
     "execution_count": 13,
     "metadata": {},
     "output_type": "execute_result"
    }
   ],
   "source": [
    "loc_assign = dummy_users.assign(location=loc_arr)\n",
    "loc_assign.head()"
   ]
  },
  {
   "cell_type": "code",
   "execution_count": 16,
   "metadata": {},
   "outputs": [],
   "source": [
    "loc_assign = loc_assign.drop(['address'], axis=1)"
   ]
  },
  {
   "cell_type": "code",
   "execution_count": 17,
   "metadata": {},
   "outputs": [
    {
     "data": {
      "text/html": [
       "<div>\n",
       "<style scoped>\n",
       "    .dataframe tbody tr th:only-of-type {\n",
       "        vertical-align: middle;\n",
       "    }\n",
       "\n",
       "    .dataframe tbody tr th {\n",
       "        vertical-align: top;\n",
       "    }\n",
       "\n",
       "    .dataframe thead th {\n",
       "        text-align: right;\n",
       "    }\n",
       "</style>\n",
       "<table border=\"1\" class=\"dataframe\">\n",
       "  <thead>\n",
       "    <tr style=\"text-align: right;\">\n",
       "      <th></th>\n",
       "      <th>id</th>\n",
       "      <th>name</th>\n",
       "      <th>age</th>\n",
       "      <th>gender</th>\n",
       "      <th>email</th>\n",
       "      <th>location</th>\n",
       "    </tr>\n",
       "  </thead>\n",
       "  <tbody>\n",
       "    <tr>\n",
       "      <th>0</th>\n",
       "      <td>1</td>\n",
       "      <td>Sib</td>\n",
       "      <td>35</td>\n",
       "      <td>Female</td>\n",
       "      <td>salfonsini0@flickr.com</td>\n",
       "      <td>UDHAMPUR, JAMMU &amp; KASHMIR</td>\n",
       "    </tr>\n",
       "    <tr>\n",
       "      <th>1</th>\n",
       "      <td>2</td>\n",
       "      <td>Mollie</td>\n",
       "      <td>18</td>\n",
       "      <td>Female</td>\n",
       "      <td>mtumini1@yahoo.co.jp</td>\n",
       "      <td>RAIGAD, MAHARASHTRA</td>\n",
       "    </tr>\n",
       "    <tr>\n",
       "      <th>2</th>\n",
       "      <td>3</td>\n",
       "      <td>Sadye</td>\n",
       "      <td>36</td>\n",
       "      <td>Female</td>\n",
       "      <td>sbatecok2@nsw.gov.au</td>\n",
       "      <td>NORTH, TRIPURA</td>\n",
       "    </tr>\n",
       "    <tr>\n",
       "      <th>3</th>\n",
       "      <td>4</td>\n",
       "      <td>Wade</td>\n",
       "      <td>53</td>\n",
       "      <td>Male</td>\n",
       "      <td>wchasemoore3@google.com.hk</td>\n",
       "      <td>KARNAL, HARYANA</td>\n",
       "    </tr>\n",
       "    <tr>\n",
       "      <th>4</th>\n",
       "      <td>5</td>\n",
       "      <td>Tonie</td>\n",
       "      <td>41</td>\n",
       "      <td>Female</td>\n",
       "      <td>tgeratt4@about.me</td>\n",
       "      <td>UNA, HIMACHAL PRADESH</td>\n",
       "    </tr>\n",
       "  </tbody>\n",
       "</table>\n",
       "</div>"
      ],
      "text/plain": [
       "   id    name  age  gender                       email  \\\n",
       "0   1     Sib   35  Female      salfonsini0@flickr.com   \n",
       "1   2  Mollie   18  Female        mtumini1@yahoo.co.jp   \n",
       "2   3   Sadye   36  Female        sbatecok2@nsw.gov.au   \n",
       "3   4    Wade   53    Male  wchasemoore3@google.com.hk   \n",
       "4   5   Tonie   41  Female           tgeratt4@about.me   \n",
       "\n",
       "                    location  \n",
       "0  UDHAMPUR, JAMMU & KASHMIR  \n",
       "1        RAIGAD, MAHARASHTRA  \n",
       "2             NORTH, TRIPURA  \n",
       "3            KARNAL, HARYANA  \n",
       "4      UNA, HIMACHAL PRADESH  "
      ]
     },
     "execution_count": 17,
     "metadata": {},
     "output_type": "execute_result"
    }
   ],
   "source": [
    "loc_assign.head()"
   ]
  },
  {
   "cell_type": "code",
   "execution_count": 18,
   "metadata": {},
   "outputs": [
    {
     "data": {
      "text/plain": [
       "(499, 6)"
      ]
     },
     "execution_count": 18,
     "metadata": {},
     "output_type": "execute_result"
    }
   ],
   "source": [
    "loc_assign.shape"
   ]
  },
  {
   "cell_type": "code",
   "execution_count": 72,
   "metadata": {},
   "outputs": [],
   "source": [
    "def jprint(obj):\n",
    "    # create a formatted string of the Python JSON object\n",
    "    text = json.dumps(obj, sort_keys=True, indent=4)\n",
    "    print(text)\n",
    "\n",
    "def getCoordinates(location, iteration) :\n",
    "    params = {\n",
    "        \"key\": \"ldOkdJeAmvXXqGpSkW31SxK7bBlm6SG1\",\n",
    "        \"location\": location\n",
    "    }\n",
    "    response = requests.get(\"http://open.mapquestapi.com/geocoding/v1/address\", params=params)\n",
    "#     jprint(response.json())\n",
    "    latLng = response.json()['results'][0]['locations'][0]['latLng']\n",
    "    if iteration%10 == 0:\n",
    "        print(\"Finished iteration ${iterValue}\".format(iterValue=iteration))\n",
    "    return (latLng['lng'], latLng['lat'])\n",
    "    \n",
    "# coord = getCoordinates(loc_assign['location'][0])\n",
    "# coord"
   ]
  },
  {
   "cell_type": "code",
   "execution_count": 73,
   "metadata": {},
   "outputs": [
    {
     "name": "stdout",
     "output_type": "stream",
     "text": [
      "Finished iteration $0\n",
      "Finished iteration $10\n",
      "Finished iteration $20\n",
      "Finished iteration $30\n",
      "Finished iteration $40\n",
      "Finished iteration $50\n",
      "Finished iteration $60\n",
      "Finished iteration $70\n",
      "Finished iteration $80\n",
      "Finished iteration $90\n",
      "Finished iteration $100\n",
      "Finished iteration $110\n",
      "Finished iteration $120\n",
      "Finished iteration $130\n",
      "Finished iteration $140\n",
      "Finished iteration $150\n",
      "Finished iteration $160\n",
      "Finished iteration $170\n",
      "Finished iteration $180\n",
      "Finished iteration $190\n",
      "Finished iteration $200\n",
      "Finished iteration $210\n",
      "Finished iteration $220\n",
      "Finished iteration $230\n",
      "Finished iteration $240\n",
      "Finished iteration $250\n",
      "Finished iteration $260\n",
      "Finished iteration $270\n",
      "Finished iteration $280\n",
      "Finished iteration $290\n",
      "Finished iteration $300\n",
      "Finished iteration $310\n",
      "Finished iteration $320\n",
      "Finished iteration $330\n",
      "Finished iteration $340\n",
      "Finished iteration $350\n",
      "Finished iteration $360\n",
      "Finished iteration $370\n",
      "Finished iteration $380\n",
      "Finished iteration $390\n",
      "Finished iteration $400\n",
      "Finished iteration $410\n",
      "Finished iteration $420\n",
      "Finished iteration $430\n",
      "Finished iteration $440\n",
      "Finished iteration $450\n",
      "Finished iteration $460\n",
      "Finished iteration $470\n",
      "Finished iteration $480\n",
      "Finished iteration $490\n"
     ]
    },
    {
     "ename": "KeyError",
     "evalue": "499",
     "output_type": "error",
     "traceback": [
      "\u001b[0;31m---------------------------------------------------------------------------\u001b[0m",
      "\u001b[0;31mKeyError\u001b[0m                                  Traceback (most recent call last)",
      "\u001b[0;32m<ipython-input-73-c70996c1d639>\u001b[0m in \u001b[0;36m<module>\u001b[0;34m\u001b[0m\n\u001b[1;32m      2\u001b[0m \u001b[0;31m#     print (count, loc_assign['location'][val])\u001b[0m\u001b[0;34m\u001b[0m\u001b[0;34m\u001b[0m\u001b[0;34m\u001b[0m\u001b[0m\n\u001b[1;32m      3\u001b[0m \u001b[0;34m\u001b[0m\u001b[0m\n\u001b[0;32m----> 4\u001b[0;31m \u001b[0mcoord_arr\u001b[0m \u001b[0;34m=\u001b[0m \u001b[0;34m[\u001b[0m\u001b[0mgetCoordinates\u001b[0m\u001b[0;34m(\u001b[0m\u001b[0mloc_assign\u001b[0m\u001b[0;34m[\u001b[0m\u001b[0;34m'location'\u001b[0m\u001b[0;34m]\u001b[0m\u001b[0;34m[\u001b[0m\u001b[0mval\u001b[0m\u001b[0;34m]\u001b[0m\u001b[0;34m,\u001b[0m \u001b[0mcount\u001b[0m\u001b[0;34m)\u001b[0m \u001b[0;32mfor\u001b[0m \u001b[0mcount\u001b[0m\u001b[0;34m,\u001b[0m \u001b[0mval\u001b[0m \u001b[0;32min\u001b[0m \u001b[0menumerate\u001b[0m\u001b[0;34m(\u001b[0m\u001b[0mloc_assign\u001b[0m\u001b[0;34m[\u001b[0m\u001b[0;34m'id'\u001b[0m\u001b[0;34m]\u001b[0m\u001b[0;34m)\u001b[0m\u001b[0;34m]\u001b[0m\u001b[0;34m\u001b[0m\u001b[0;34m\u001b[0m\u001b[0m\n\u001b[0m",
      "\u001b[0;32m<ipython-input-73-c70996c1d639>\u001b[0m in \u001b[0;36m<listcomp>\u001b[0;34m(.0)\u001b[0m\n\u001b[1;32m      2\u001b[0m \u001b[0;31m#     print (count, loc_assign['location'][val])\u001b[0m\u001b[0;34m\u001b[0m\u001b[0;34m\u001b[0m\u001b[0;34m\u001b[0m\u001b[0m\n\u001b[1;32m      3\u001b[0m \u001b[0;34m\u001b[0m\u001b[0m\n\u001b[0;32m----> 4\u001b[0;31m \u001b[0mcoord_arr\u001b[0m \u001b[0;34m=\u001b[0m \u001b[0;34m[\u001b[0m\u001b[0mgetCoordinates\u001b[0m\u001b[0;34m(\u001b[0m\u001b[0mloc_assign\u001b[0m\u001b[0;34m[\u001b[0m\u001b[0;34m'location'\u001b[0m\u001b[0;34m]\u001b[0m\u001b[0;34m[\u001b[0m\u001b[0mval\u001b[0m\u001b[0;34m]\u001b[0m\u001b[0;34m,\u001b[0m \u001b[0mcount\u001b[0m\u001b[0;34m)\u001b[0m \u001b[0;32mfor\u001b[0m \u001b[0mcount\u001b[0m\u001b[0;34m,\u001b[0m \u001b[0mval\u001b[0m \u001b[0;32min\u001b[0m \u001b[0menumerate\u001b[0m\u001b[0;34m(\u001b[0m\u001b[0mloc_assign\u001b[0m\u001b[0;34m[\u001b[0m\u001b[0;34m'id'\u001b[0m\u001b[0;34m]\u001b[0m\u001b[0;34m)\u001b[0m\u001b[0;34m]\u001b[0m\u001b[0;34m\u001b[0m\u001b[0;34m\u001b[0m\u001b[0m\n\u001b[0m",
      "\u001b[0;32m~/.local/lib/python3.7/site-packages/pandas/core/series.py\u001b[0m in \u001b[0;36m__getitem__\u001b[0;34m(self, key)\u001b[0m\n\u001b[1;32m    869\u001b[0m         \u001b[0mkey\u001b[0m \u001b[0;34m=\u001b[0m \u001b[0mcom\u001b[0m\u001b[0;34m.\u001b[0m\u001b[0mapply_if_callable\u001b[0m\u001b[0;34m(\u001b[0m\u001b[0mkey\u001b[0m\u001b[0;34m,\u001b[0m \u001b[0mself\u001b[0m\u001b[0;34m)\u001b[0m\u001b[0;34m\u001b[0m\u001b[0;34m\u001b[0m\u001b[0m\n\u001b[1;32m    870\u001b[0m         \u001b[0;32mtry\u001b[0m\u001b[0;34m:\u001b[0m\u001b[0;34m\u001b[0m\u001b[0;34m\u001b[0m\u001b[0m\n\u001b[0;32m--> 871\u001b[0;31m             \u001b[0mresult\u001b[0m \u001b[0;34m=\u001b[0m \u001b[0mself\u001b[0m\u001b[0;34m.\u001b[0m\u001b[0mindex\u001b[0m\u001b[0;34m.\u001b[0m\u001b[0mget_value\u001b[0m\u001b[0;34m(\u001b[0m\u001b[0mself\u001b[0m\u001b[0;34m,\u001b[0m \u001b[0mkey\u001b[0m\u001b[0;34m)\u001b[0m\u001b[0;34m\u001b[0m\u001b[0;34m\u001b[0m\u001b[0m\n\u001b[0m\u001b[1;32m    872\u001b[0m \u001b[0;34m\u001b[0m\u001b[0m\n\u001b[1;32m    873\u001b[0m             \u001b[0;32mif\u001b[0m \u001b[0;32mnot\u001b[0m \u001b[0mis_scalar\u001b[0m\u001b[0;34m(\u001b[0m\u001b[0mresult\u001b[0m\u001b[0;34m)\u001b[0m\u001b[0;34m:\u001b[0m\u001b[0;34m\u001b[0m\u001b[0;34m\u001b[0m\u001b[0m\n",
      "\u001b[0;32m~/.local/lib/python3.7/site-packages/pandas/core/indexes/base.py\u001b[0m in \u001b[0;36mget_value\u001b[0;34m(self, series, key)\u001b[0m\n\u001b[1;32m   4402\u001b[0m         \u001b[0mk\u001b[0m \u001b[0;34m=\u001b[0m \u001b[0mself\u001b[0m\u001b[0;34m.\u001b[0m\u001b[0m_convert_scalar_indexer\u001b[0m\u001b[0;34m(\u001b[0m\u001b[0mk\u001b[0m\u001b[0;34m,\u001b[0m \u001b[0mkind\u001b[0m\u001b[0;34m=\u001b[0m\u001b[0;34m\"getitem\"\u001b[0m\u001b[0;34m)\u001b[0m\u001b[0;34m\u001b[0m\u001b[0;34m\u001b[0m\u001b[0m\n\u001b[1;32m   4403\u001b[0m         \u001b[0;32mtry\u001b[0m\u001b[0;34m:\u001b[0m\u001b[0;34m\u001b[0m\u001b[0;34m\u001b[0m\u001b[0m\n\u001b[0;32m-> 4404\u001b[0;31m             \u001b[0;32mreturn\u001b[0m \u001b[0mself\u001b[0m\u001b[0;34m.\u001b[0m\u001b[0m_engine\u001b[0m\u001b[0;34m.\u001b[0m\u001b[0mget_value\u001b[0m\u001b[0;34m(\u001b[0m\u001b[0ms\u001b[0m\u001b[0;34m,\u001b[0m \u001b[0mk\u001b[0m\u001b[0;34m,\u001b[0m \u001b[0mtz\u001b[0m\u001b[0;34m=\u001b[0m\u001b[0mgetattr\u001b[0m\u001b[0;34m(\u001b[0m\u001b[0mseries\u001b[0m\u001b[0;34m.\u001b[0m\u001b[0mdtype\u001b[0m\u001b[0;34m,\u001b[0m \u001b[0;34m\"tz\"\u001b[0m\u001b[0;34m,\u001b[0m \u001b[0;32mNone\u001b[0m\u001b[0;34m)\u001b[0m\u001b[0;34m)\u001b[0m\u001b[0;34m\u001b[0m\u001b[0;34m\u001b[0m\u001b[0m\n\u001b[0m\u001b[1;32m   4405\u001b[0m         \u001b[0;32mexcept\u001b[0m \u001b[0mKeyError\u001b[0m \u001b[0;32mas\u001b[0m \u001b[0me1\u001b[0m\u001b[0;34m:\u001b[0m\u001b[0;34m\u001b[0m\u001b[0;34m\u001b[0m\u001b[0m\n\u001b[1;32m   4406\u001b[0m             \u001b[0;32mif\u001b[0m \u001b[0mlen\u001b[0m\u001b[0;34m(\u001b[0m\u001b[0mself\u001b[0m\u001b[0;34m)\u001b[0m \u001b[0;34m>\u001b[0m \u001b[0;36m0\u001b[0m \u001b[0;32mand\u001b[0m \u001b[0;34m(\u001b[0m\u001b[0mself\u001b[0m\u001b[0;34m.\u001b[0m\u001b[0mholds_integer\u001b[0m\u001b[0;34m(\u001b[0m\u001b[0;34m)\u001b[0m \u001b[0;32mor\u001b[0m \u001b[0mself\u001b[0m\u001b[0;34m.\u001b[0m\u001b[0mis_boolean\u001b[0m\u001b[0;34m(\u001b[0m\u001b[0;34m)\u001b[0m\u001b[0;34m)\u001b[0m\u001b[0;34m:\u001b[0m\u001b[0;34m\u001b[0m\u001b[0;34m\u001b[0m\u001b[0m\n",
      "\u001b[0;32mpandas/_libs/index.pyx\u001b[0m in \u001b[0;36mpandas._libs.index.IndexEngine.get_value\u001b[0;34m()\u001b[0m\n",
      "\u001b[0;32mpandas/_libs/index.pyx\u001b[0m in \u001b[0;36mpandas._libs.index.IndexEngine.get_value\u001b[0;34m()\u001b[0m\n",
      "\u001b[0;32mpandas/_libs/index.pyx\u001b[0m in \u001b[0;36mpandas._libs.index.IndexEngine.get_loc\u001b[0;34m()\u001b[0m\n",
      "\u001b[0;32mpandas/_libs/hashtable_class_helper.pxi\u001b[0m in \u001b[0;36mpandas._libs.hashtable.Int64HashTable.get_item\u001b[0;34m()\u001b[0m\n",
      "\u001b[0;32mpandas/_libs/hashtable_class_helper.pxi\u001b[0m in \u001b[0;36mpandas._libs.hashtable.Int64HashTable.get_item\u001b[0;34m()\u001b[0m\n",
      "\u001b[0;31mKeyError\u001b[0m: 499"
     ]
    }
   ],
   "source": [
    "# for count, val in enumerate(loc_assign['id']):\n",
    "#     print (count, loc_assign['location'][val])\n",
    "\n",
    "coord_arr = [getCoordinates(loc_assign['location'][val], count) for count, val in enumerate(loc_assign['id'])]\n"
   ]
  },
  {
   "cell_type": "code",
   "execution_count": 74,
   "metadata": {},
   "outputs": [],
   "source": [
    "longitude = [arr[0] for arr in coord_arr]\n",
    "latitude = [arr[1] for arr in coord_arr]"
   ]
  },
  {
   "cell_type": "code",
   "execution_count": 75,
   "metadata": {},
   "outputs": [
    {
     "data": {
      "text/plain": [
       "493"
      ]
     },
     "execution_count": 75,
     "metadata": {},
     "output_type": "execute_result"
    }
   ],
   "source": [
    "len(longitude)"
   ]
  },
  {
   "cell_type": "code",
   "execution_count": 51,
   "metadata": {},
   "outputs": [
    {
     "name": "stdout",
     "output_type": "stream",
     "text": [
      "Finished iteration $0\n"
     ]
    },
    {
     "data": {
      "text/plain": [
       "[18.559439, 23.775082, 29.680327, 31.583333, 39.78373]"
      ]
     },
     "execution_count": 51,
     "metadata": {},
     "output_type": "execute_result"
    }
   ],
   "source": [
    "coord_arr_sub = [getCoordinates(loc_assign['location'][val], count) for count, val in enumerate(loc_assign['id'][:5])]\n",
    "longitude_arr_sub = [arr[0] for arr in coord_arr_sub]\n",
    "latitude_arr_sub = [arr[1] for arr in coord_arr_sub]\n",
    "latitude_arr_sub"
   ]
  },
  {
   "cell_type": "code",
   "execution_count": 56,
   "metadata": {},
   "outputs": [],
   "source": [
    "for x in longitude:\n",
    "    longitude_arr_sub.append(x)\n",
    "for y in latitude:\n",
    "    latitude_arr_sub.append(y)"
   ]
  },
  {
   "cell_type": "code",
   "execution_count": 71,
   "metadata": {},
   "outputs": [
    {
     "data": {
      "text/plain": [
       "(-100.445882, 39.78373)"
      ]
     },
     "execution_count": 71,
     "metadata": {},
     "output_type": "execute_result"
    }
   ],
   "source": [
    "longitude_arr_sub[4], latitude_arr_sub[4]"
   ]
  },
  {
   "cell_type": "code",
   "execution_count": 59,
   "metadata": {},
   "outputs": [
    {
     "data": {
      "text/html": [
       "<div>\n",
       "<style scoped>\n",
       "    .dataframe tbody tr th:only-of-type {\n",
       "        vertical-align: middle;\n",
       "    }\n",
       "\n",
       "    .dataframe tbody tr th {\n",
       "        vertical-align: top;\n",
       "    }\n",
       "\n",
       "    .dataframe thead th {\n",
       "        text-align: right;\n",
       "    }\n",
       "</style>\n",
       "<table border=\"1\" class=\"dataframe\">\n",
       "  <thead>\n",
       "    <tr style=\"text-align: right;\">\n",
       "      <th></th>\n",
       "      <th>id</th>\n",
       "      <th>name</th>\n",
       "      <th>age</th>\n",
       "      <th>gender</th>\n",
       "      <th>email</th>\n",
       "      <th>location</th>\n",
       "    </tr>\n",
       "  </thead>\n",
       "  <tbody>\n",
       "    <tr>\n",
       "      <th>494</th>\n",
       "      <td>495</td>\n",
       "      <td>Sibyl</td>\n",
       "      <td>46</td>\n",
       "      <td>Female</td>\n",
       "      <td>sgaitleydr@narod.ru</td>\n",
       "      <td>DHAMTARI, CHHATTISGARH</td>\n",
       "    </tr>\n",
       "    <tr>\n",
       "      <th>495</th>\n",
       "      <td>496</td>\n",
       "      <td>Cleavland</td>\n",
       "      <td>33</td>\n",
       "      <td>Male</td>\n",
       "      <td>ccarderds@sohu.com</td>\n",
       "      <td>NICOBAR, A &amp; N ISLANDS</td>\n",
       "    </tr>\n",
       "    <tr>\n",
       "      <th>496</th>\n",
       "      <td>497</td>\n",
       "      <td>Ninon</td>\n",
       "      <td>36</td>\n",
       "      <td>Female</td>\n",
       "      <td>noconnelldt@miibeian.gov.cn</td>\n",
       "      <td>CACHAR, ASSAM</td>\n",
       "    </tr>\n",
       "    <tr>\n",
       "      <th>497</th>\n",
       "      <td>498</td>\n",
       "      <td>Arlinda</td>\n",
       "      <td>24</td>\n",
       "      <td>Female</td>\n",
       "      <td>aakermandu@reddit.com</td>\n",
       "      <td>ETAH, UTTAR PRADESH</td>\n",
       "    </tr>\n",
       "    <tr>\n",
       "      <th>498</th>\n",
       "      <td>499</td>\n",
       "      <td>Nissa</td>\n",
       "      <td>23</td>\n",
       "      <td>Female</td>\n",
       "      <td>nshakeladydv@epa.gov</td>\n",
       "      <td>LAHAUL-SPITI, HIMACHAL PRADESH</td>\n",
       "    </tr>\n",
       "  </tbody>\n",
       "</table>\n",
       "</div>"
      ],
      "text/plain": [
       "      id       name  age  gender                        email  \\\n",
       "494  495      Sibyl   46  Female          sgaitleydr@narod.ru   \n",
       "495  496  Cleavland   33    Male           ccarderds@sohu.com   \n",
       "496  497      Ninon   36  Female  noconnelldt@miibeian.gov.cn   \n",
       "497  498    Arlinda   24  Female        aakermandu@reddit.com   \n",
       "498  499      Nissa   23  Female         nshakeladydv@epa.gov   \n",
       "\n",
       "                           location  \n",
       "494          DHAMTARI, CHHATTISGARH  \n",
       "495          NICOBAR, A & N ISLANDS  \n",
       "496                   CACHAR, ASSAM  \n",
       "497             ETAH, UTTAR PRADESH  \n",
       "498  LAHAUL-SPITI, HIMACHAL PRADESH  "
      ]
     },
     "execution_count": 59,
     "metadata": {},
     "output_type": "execute_result"
    }
   ],
   "source": [
    "loc_assign.tail()"
   ]
  },
  {
   "cell_type": "code",
   "execution_count": 70,
   "metadata": {},
   "outputs": [
    {
     "name": "stdout",
     "output_type": "stream",
     "text": [
      "Finished iteration $0\n"
     ]
    },
    {
     "data": {
      "text/plain": [
       "(76.25, 31.583333)"
      ]
     },
     "execution_count": 70,
     "metadata": {},
     "output_type": "execute_result"
    }
   ],
   "source": [
    "getCoordinates(loc_assign['location'][4], 0)"
   ]
  },
  {
   "cell_type": "code",
   "execution_count": null,
   "metadata": {},
   "outputs": [],
   "source": []
  }
 ],
 "metadata": {
  "language_info": {
   "codemirror_mode": {
    "name": "ipython",
    "version": 3
   },
   "file_extension": ".py",
   "mimetype": "text/x-python",
   "name": "python",
   "nbconvert_exporter": "python",
   "pygments_lexer": "ipython3",
   "version": "3.7.5"
  }
 },
 "nbformat": 4,
 "nbformat_minor": 4
}
